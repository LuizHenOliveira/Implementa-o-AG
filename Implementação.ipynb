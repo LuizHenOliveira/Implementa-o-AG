{
  "nbformat": 4,
  "nbformat_minor": 0,
  "metadata": {
    "colab": {
      "provenance": []
    },
    "kernelspec": {
      "name": "python3",
      "display_name": "Python 3"
    }
  },
  "cells": [
    {
      "cell_type": "markdown",
      "metadata": {
        "id": "K7f-liPlITI5"
      },
      "source": [
        "#  Atividade 6 - Algoritmo Genético para TSP\n",
        "\n",
        "**Alunos:** Luiz Henrique Oliveira Nascimento e Arthur Ângelo Gomes de Oliveira\n",
        "\n",
        "\n",
        "Professor: Rodrigo Lira\n",
        "\n",
        "---\n",
        "\n",
        "Implementar um Algoritmo Genético para resolver o **Problema do Caixeiro Viajante (TSP)** desenvolvido na Atividade 5.\n",
        "\n",
        "- População: 50 indivíduos\n",
        "- Gerações: 400\n",
        "- Seleção: Torneio (tamanho 3)\n",
        "- Crossover: Order Crossover (OX) - taxa 90%\n",
        "- Mutação: Swap - taxa 5%\n",
        "- Elitismo: manter os 5 melhores para a próxima geração\n",
        "\n",
        "##  Executar 30 vezes, em seguida:\n",
        "1. Calcular a média e o desvio padrão da qualidade (fitness) das soluções finais encontradas\n",
        "2. Gráfico de Convergência do AG (melhor fitness por iteração)\n",
        "3. Criar boxplot com os resultados finais"
      ]
    },
    {
      "cell_type": "markdown",
      "metadata": {
        "id": "CqxHpNXLITI7"
      },
      "source": [
        "##  1. Importando Bibliotecas"
      ]
    },
    {
      "cell_type": "code",
      "metadata": {
        "colab": {
          "base_uri": "https://localhost:8080/",
          "height": 0
        },
        "id": "UhnhiIxLITI7",
        "outputId": "e2ef6940-ddd4-4ea8-a6f6-dc716278dcd4"
      },
      "source": [
        "import random\n",
        "import numpy as np\n",
        "import matplotlib.pyplot as plt\n",
        "import copy\n",
        "\n",
        "print(' Bibliotecas importadas com sucesso!')"
      ],
      "execution_count": 1,
      "outputs": [
        {
          "output_type": "stream",
          "name": "stdout",
          "text": [
            " Bibliotecas importadas com sucesso!\n"
          ]
        }
      ]
    },
    {
      "cell_type": "markdown",
      "metadata": {
        "id": "4HXG5qiEITI8"
      },
      "source": [
        "##  2. Código Base da Atividade 5\n",
        "\n",
        "Funções básicas implementadas na Atividade 5:\n",
        "- Matriz de distâncias USA13\n",
        "- Gerar rota aleatória\n",
        "- Calcular fitness (distância total)\n",
        "- Validar rota"
      ]
    },
    {
      "cell_type": "code",
      "metadata": {
        "colab": {
          "base_uri": "https://localhost:8080/",
          "height": 0
        },
        "id": "aaUdEql1ITI8",
        "outputId": "65ac96dd-888b-4ced-f20e-bbe6dccf9a4a"
      },
      "source": [
        "# Matriz de distâncias\n",
        "USA13 = [\n",
        "    [0, 2451, 713, 1018, 1631, 1374, 2408, 213, 2571, 875, 1420, 2145, 1972],\n",
        "    [2451, 0, 1745, 1524, 831, 1240, 959, 2596, 403, 1589, 1374, 357, 579],\n",
        "    [713, 1745, 0, 355, 920, 803, 1737, 851, 1858, 262, 940, 1453, 1260],\n",
        "    [1018, 1524, 355, 0, 700, 862, 1395, 1123, 1584, 466, 1056, 1280, 987],\n",
        "    [1631, 831, 920, 700, 0, 663, 1021, 1769, 949, 796, 879, 586, 371],\n",
        "    [1374, 1240, 803, 862, 663, 0, 1681, 1551, 1765, 547, 225, 887, 999],\n",
        "    [2408, 959, 1737, 1395, 1021, 1681, 0, 2493, 678, 1724, 1891, 1114, 701],\n",
        "    [213, 2596, 851, 1123, 1769, 1551, 2493, 0, 2699, 1038, 1605, 2300, 2099],\n",
        "    [2571, 403, 1858, 1584, 949, 1765, 678, 2699, 0, 1744, 1645, 653, 600],\n",
        "    [875, 1589, 262, 466, 796, 547, 1724, 1038, 1744, 0, 679, 1272, 1162],\n",
        "    [1420, 1374, 940, 1056, 879, 225, 1891, 1605, 1645, 679, 0, 1017, 1200],\n",
        "    [2145, 357, 1453, 1280, 586, 887, 1114, 2300, 653, 1272, 1017, 0, 504],\n",
        "    [1972, 579, 1260, 987, 371, 999, 701, 2099, 600, 1162, 1200, 504, 0],\n",
        "]\n",
        "\n",
        "# ==========================\n",
        "# Rota\n",
        "# ==========================\n",
        "def gerar_rota(num_cidades: int) -> list[int]:\n",
        "    \"\"\"\n",
        "    Gera uma rota aleatória válida (permuta todas as cidades,\n",
        "    mas começa e termina na mesma cidade — aqui cidade 0).\n",
        "    \"\"\"\n",
        "    cidades = list(range(1, num_cidades))  # ignora cidade 0 (fixa no início/fim)\n",
        "    random.shuffle(cidades)\n",
        "    rota = [0] + cidades + [0]  # começa e termina em 0\n",
        "    return rota\n",
        "\n",
        "# ==========================\n",
        "# função fitness\n",
        "# ==========================\n",
        "def calcular_distancia_total(rota: list[int], matriz: list[list[int]]) -> int:\n",
        "    \"\"\"Calcula a distância total percorrida pela rota.\"\"\"\n",
        "    distancia = 0\n",
        "    for i in range(len(rota) - 1):\n",
        "        cidade_atual = rota[i]\n",
        "        proxima_cidade = rota[i + 1]\n",
        "        distancia += matriz[cidade_atual][proxima_cidade]\n",
        "    return distancia\n",
        "\n",
        "# ==========================\n",
        "# validação\n",
        "# ==========================\n",
        "def rota_valida(rota: list[int], num_cidades: int) -> bool:\n",
        "    \"\"\"Verifica se a rota é válida: todas as cidades visitadas uma vez e volta à origem.\"\"\"\n",
        "    if rota[0] != rota[-1]:\n",
        "        return False  # deve começar e terminar na mesma cidade\n",
        "    cidades_intermediarias = rota[:-1]\n",
        "    return sorted(set(cidades_intermediarias)) == list(range(num_cidades))\n",
        "\n",
        "print(' Código da Atividade 5 carregado!')\n",
        "\n",
        "# Teste\n",
        "num_cidades = 13\n",
        "rota_teste = gerar_rota(num_cidades)\n",
        "print(f\"\\nRota gerada: {rota_teste}\")\n",
        "print(f\"Rota válida? {rota_valida(rota_teste, num_cidades)}\")\n",
        "print(f\"Distância total: {calcular_distancia_total(rota_teste, USA13)}\")"
      ],
      "execution_count": 2,
      "outputs": [
        {
          "output_type": "stream",
          "name": "stdout",
          "text": [
            " Código da Atividade 5 carregado!\n",
            "\n",
            "Rota gerada: [0, 2, 4, 12, 5, 1, 6, 3, 7, 10, 11, 9, 8, 0]\n",
            "Rota válida? True\n",
            "Distância total: 15929\n"
          ]
        }
      ]
    },
    {
      "cell_type": "markdown",
      "metadata": {
        "id": "-QTomSyGITI8"
      },
      "source": [
        "##  3. Parâmetros do Algoritmo Genético"
      ]
    },
    {
      "cell_type": "code",
      "metadata": {
        "colab": {
          "base_uri": "https://localhost:8080/",
          "height": 0
        },
        "id": "AW_JyCtFITI8",
        "outputId": "9fd90bdd-94b0-4d15-8d3f-f2e2fb5f4f3d"
      },
      "source": [
        "# Parâmetros conforme especificação da Atividade 6\n",
        "NUM_CIDADES = 13\n",
        "POPULACAO = 50\n",
        "GERACOES = 400\n",
        "TAMANHO_TORNEIO = 3\n",
        "TAXA_CROSSOVER = 0.9   # 90%\n",
        "TAXA_MUTACAO = 0.05    # 5%\n",
        "ELITISMO = 5           # Manter os 5 melhores\n",
        "NUM_EXECUCOES = 30\n",
        "\n",
        "print(' Parâmetros do AG configurados!')\n",
        "print(f'População: {POPULACAO} indivíduos')\n",
        "print(f'Gerações: {GERACOES}')\n",
        "print(f'Seleção: Torneio (tamanho {TAMANHO_TORNEIO})')\n",
        "print(f'Crossover: OX - {TAXA_CROSSOVER*100}%')\n",
        "print(f'Mutação: Swap - {TAXA_MUTACAO*100}%')\n",
        "print(f'Elitismo: {ELITISMO} melhores')\n",
        "print(f'Execuções: {NUM_EXECUCOES}')"
      ],
      "execution_count": 3,
      "outputs": [
        {
          "output_type": "stream",
          "name": "stdout",
          "text": [
            " Parâmetros do AG configurados!\n",
            "População: 50 indivíduos\n",
            "Gerações: 400\n",
            "Seleção: Torneio (tamanho 3)\n",
            "Crossover: OX - 90.0%\n",
            "Mutação: Swap - 5.0%\n",
            "Elitismo: 5 melhores\n",
            "Execuções: 30\n"
          ]
        }
      ]
    },
    {
      "cell_type": "markdown",
      "metadata": {
        "id": "riy8VpEkITI9"
      },
      "source": [
        "##  4. Funções do Algoritmo Genético\n",
        "\n",
        "### 4.1 População"
      ]
    },
    {
      "cell_type": "code",
      "metadata": {
        "colab": {
          "base_uri": "https://localhost:8080/",
          "height": 0
        },
        "id": "f7Usg46zITI9",
        "outputId": "c10b6d09-ef14-4c34-be42-c7064ae869b3"
      },
      "source": [
        "def gerar_populacao(num_cidades: int, tamanho_populacao: int) -> list:\n",
        "    \"\"\"Gera população inicial de rotas aleatórias\"\"\"\n",
        "    return [gerar_rota(num_cidades) for _ in range(tamanho_populacao)]\n",
        "\n",
        "def avaliar_populacao(populacao: list, matriz: list) -> list:\n",
        "    \"\"\"Calcula o fitness (distância) de cada indivíduo da população\"\"\"\n",
        "    return [calcular_distancia_total(rota, matriz) for rota in populacao]\n",
        "\n",
        "print(' Funções de população criadas!')"
      ],
      "execution_count": 4,
      "outputs": [
        {
          "output_type": "stream",
          "name": "stdout",
          "text": [
            " Funções de população criadas!\n"
          ]
        }
      ]
    },
    {
      "cell_type": "markdown",
      "metadata": {
        "id": "ic7zNrVqITI9"
      },
      "source": [
        "### 4.2 Seleção por Torneio"
      ]
    },
    {
      "cell_type": "code",
      "metadata": {
        "colab": {
          "base_uri": "https://localhost:8080/",
          "height": 0
        },
        "id": "fRTZRv7zITI9",
        "outputId": "6a6e2565-7bab-4127-ec26-7691b4923431"
      },
      "source": [
        "def selecao_torneio(populacao: list, avaliacoes: list, tamanho_torneio: int):\n",
        "    \"\"\"\n",
        "    Seleção por torneio: seleciona aleatoriamente alguns indivíduos\n",
        "    e retorna o melhor entre eles (menor distância).\n",
        "    Retorna 2 pais.\n",
        "    \"\"\"\n",
        "    pais = []\n",
        "    for _ in range(2):\n",
        "        # Seleciona índices aleatórios para o torneio\n",
        "        indices = random.sample(range(len(populacao)), tamanho_torneio)\n",
        "        # Pega o melhor (menor distância) entre os selecionados\n",
        "        melhor_idx = min(indices, key=lambda i: avaliacoes[i])\n",
        "        pais.append(copy.deepcopy(populacao[melhor_idx]))\n",
        "    return pais[0], pais[1]\n",
        "\n",
        "print(' Seleção por torneio implementada!')"
      ],
      "execution_count": 5,
      "outputs": [
        {
          "output_type": "stream",
          "name": "stdout",
          "text": [
            " Seleção por torneio implementada!\n"
          ]
        }
      ]
    },
    {
      "cell_type": "markdown",
      "metadata": {
        "id": "KBnhRiNiITI9"
      },
      "source": [
        "### 4.3 Order Crossover (OX)"
      ]
    },
    {
      "cell_type": "code",
      "metadata": {
        "colab": {
          "base_uri": "https://localhost:8080/",
          "height": 0
        },
        "id": "hkz4bdI6ITI9",
        "outputId": "edbbbae1-a105-4291-8b55-5117ca708e92"
      },
      "source": [
        "def order_crossover(pai1: list, pai2: list) -> list:\n",
        "    \"\"\"\n",
        "    Order Crossover (OX) - específico para problemas de permutação como TSP\n",
        "\n",
        "    Funcionamento:\n",
        "    1. Escolhe dois pontos de corte aleatórios\n",
        "    2. Copia o segmento do pai1 entre os pontos para o filho\n",
        "    3. Preenche o resto com genes do pai2 na ordem, pulando os já presentes\n",
        "    \"\"\"\n",
        "    # Remove último elemento temporariamente (cidade de retorno)\n",
        "    p1 = pai1[:-1]\n",
        "    p2 = pai2[:-1]\n",
        "    tamanho = len(p1)\n",
        "\n",
        "    # Escolhe dois pontos de corte\n",
        "    inicio = random.randint(0, tamanho - 2)\n",
        "    fim = random.randint(inicio + 1, tamanho)\n",
        "\n",
        "    # Inicializa filho com None\n",
        "    filho = [None] * tamanho\n",
        "\n",
        "    # Copia segmento do pai1 para o filho\n",
        "    filho[inicio:fim] = p1[inicio:fim]\n",
        "\n",
        "    # Preenche o resto com genes do pai2 na ordem\n",
        "    posicao_filho = fim\n",
        "    for gene in p2[fim:] + p2[:fim]:  # Percorre pai2 de forma circular\n",
        "        if gene not in filho:\n",
        "            if posicao_filho >= tamanho:\n",
        "                posicao_filho = 0\n",
        "            filho[posicao_filho] = gene\n",
        "            posicao_filho += 1\n",
        "\n",
        "    # Adiciona cidade de retorno\n",
        "    filho.append(filho[0])\n",
        "    return filho\n",
        "\n",
        "def aplicar_crossover(pai1: list, pai2: list) -> list:\n",
        "    \"\"\"Aplica crossover com probabilidade TAXA_CROSSOVER\"\"\"\n",
        "    if random.random() < TAXA_CROSSOVER:\n",
        "        return order_crossover(pai1, pai2)\n",
        "    else:\n",
        "        return copy.deepcopy(pai1)\n",
        "\n",
        "print(' Order Crossover (OX) implementado!')"
      ],
      "execution_count": 6,
      "outputs": [
        {
          "output_type": "stream",
          "name": "stdout",
          "text": [
            " Order Crossover (OX) implementado!\n"
          ]
        }
      ]
    },
    {
      "cell_type": "markdown",
      "metadata": {
        "id": "--VWZ1BOITI-"
      },
      "source": [
        "### 4.4 Mutação Swap"
      ]
    },
    {
      "cell_type": "code",
      "metadata": {
        "colab": {
          "base_uri": "https://localhost:8080/",
          "height": 0
        },
        "id": "IxcDY-i_ITI-",
        "outputId": "50ad1057-c31c-45a6-a3f9-f2a3660f38c8"
      },
      "source": [
        "def mutacao_swap(rota: list) -> list:\n",
        "    \"\"\"\n",
        "    Mutação Swap: troca a posição de duas cidades aleatórias\n",
        "    (Não mexe na primeira e última posição, que são a cidade 0)\n",
        "    \"\"\"\n",
        "    rota_mutada = copy.deepcopy(rota)\n",
        "\n",
        "    if random.random() < TAXA_MUTACAO:\n",
        "        # Escolhe duas posições diferentes (entre 1 e len-2 para não mexer no 0)\n",
        "        i = random.randint(1, len(rota_mutada) - 2)\n",
        "        j = random.randint(1, len(rota_mutada) - 2)\n",
        "\n",
        "        # Troca as cidades\n",
        "        rota_mutada[i], rota_mutada[j] = rota_mutada[j], rota_mutada[i]\n",
        "\n",
        "    return rota_mutada\n",
        "\n",
        "print(' Mutação Swap implementada!')"
      ],
      "execution_count": 7,
      "outputs": [
        {
          "output_type": "stream",
          "name": "stdout",
          "text": [
            " Mutação Swap implementada!\n"
          ]
        }
      ]
    },
    {
      "cell_type": "markdown",
      "metadata": {
        "id": "5XMMgVBTITI-"
      },
      "source": [
        "##  5. Algoritmo Genético Completo"
      ]
    },
    {
      "cell_type": "code",
      "metadata": {
        "colab": {
          "base_uri": "https://localhost:8080/",
          "height": 0
        },
        "id": "FQzWQEIQITI-",
        "outputId": "9babe211-3135-43b9-ca4e-9f794ce55f15"
      },
      "source": [
        "def algoritmo_genetico_tsp():\n",
        "    \"\"\"\n",
        "    Executa o Algoritmo Genético completo para o TSP\n",
        "\n",
        "    Retorna:\n",
        "    - melhor_rota: a melhor rota encontrada\n",
        "    - melhor_distancia: a menor distância encontrada\n",
        "    - historico: lista com a melhor distância de cada geração\n",
        "    \"\"\"\n",
        "    # 1. Gerar população inicial\n",
        "    populacao = gerar_populacao(NUM_CIDADES, POPULACAO)\n",
        "\n",
        "    # Variáveis para guardar o melhor resultado global\n",
        "    melhor_distancia_global = float('inf')\n",
        "    melhor_rota_global = None\n",
        "    historico = []\n",
        "\n",
        "    # 2. Loop das gerações\n",
        "    for geracao in range(GERACOES):\n",
        "        # 3. Avaliar fitness de toda a população\n",
        "        avaliacoes = avaliar_populacao(populacao, USA13)\n",
        "\n",
        "        # 4. Encontrar o melhor da geração atual\n",
        "        melhor_idx = min(range(len(avaliacoes)), key=lambda i: avaliacoes[i])\n",
        "        melhor_distancia_geracao = avaliacoes[melhor_idx]\n",
        "        melhor_rota_geracao = populacao[melhor_idx]\n",
        "\n",
        "        # 5. Atualizar o melhor global se necessário\n",
        "        if melhor_distancia_geracao < melhor_distancia_global:\n",
        "            melhor_distancia_global = melhor_distancia_geracao\n",
        "            melhor_rota_global = copy.deepcopy(melhor_rota_geracao)\n",
        "\n",
        "        # 6. Guardar histórico para o gráfico de convergência\n",
        "        historico.append(melhor_distancia_global)\n",
        "\n",
        "        # 7. ELITISMO: Selecionar os 5 melhores da população atual\n",
        "        indices_elite = sorted(range(len(avaliacoes)), key=lambda i: avaliacoes[i])[:ELITISMO]\n",
        "        elite = [copy.deepcopy(populacao[i]) for i in indices_elite]\n",
        "\n",
        "        # 8. Criar nova população\n",
        "        nova_populacao = elite.copy()  # Começa com a elite\n",
        "\n",
        "        # Gerar o resto da população através de seleção, crossover e mutação\n",
        "        while len(nova_populacao) < POPULACAO:\n",
        "            # Seleção: escolhe dois pais\n",
        "            pai1, pai2 = selecao_torneio(populacao, avaliacoes, TAMANHO_TORNEIO)\n",
        "\n",
        "            # Crossover: gera filho\n",
        "            filho = aplicar_crossover(pai1, pai2)\n",
        "\n",
        "            # Mutação: aplica no filho\n",
        "            filho = mutacao_swap(filho)\n",
        "\n",
        "            # Adiciona filho na nova população\n",
        "            nova_populacao.append(filho)\n",
        "\n",
        "        # 9. Substituir a população antiga pela nova\n",
        "        populacao = nova_populacao\n",
        "\n",
        "    return melhor_rota_global, melhor_distancia_global, historico\n",
        "\n",
        "print(' Algoritmo Genético completo implementado!')"
      ],
      "execution_count": 8,
      "outputs": [
        {
          "output_type": "stream",
          "name": "stdout",
          "text": [
            " Algoritmo Genético completo implementado!\n"
          ]
        }
      ]
    },
    {
      "cell_type": "markdown",
      "metadata": {
        "id": "JZOu2jyoITI-"
      },
      "source": [
        "##  6. Executando 30 Vezes"
      ]
    },
    {
      "cell_type": "code",
      "metadata": {
        "colab": {
          "base_uri": "https://localhost:8080/",
          "height": 0
        },
        "id": "1-8T1RObITI-",
        "outputId": "967ff853-0fa0-47fb-802d-f1999eccaf2c"
      },
      "source": [
        "print('\\n' + '='*70)\n",
        "print(' EXECUTANDO ALGORITMO GENÉTICO 30 VEZES')\n",
        "print('='*70 + '\\n')\n",
        "\n",
        "resultados_distancias = []\n",
        "todos_historicos = []\n",
        "\n",
        "for i in range(NUM_EXECUCOES):\n",
        "    melhor_rota, melhor_distancia, historico = algoritmo_genetico_tsp()\n",
        "    resultados_distancias.append(melhor_distancia)\n",
        "    todos_historicos.append(historico)\n",
        "\n",
        "    print(f'Execução {i+1}/{NUM_EXECUCOES} finalizada | Melhor distância: {melhor_distancia}')\n",
        "\n",
        "print('\\n Todas as 30 execuções concluídas!')"
      ],
      "execution_count": 9,
      "outputs": [
        {
          "output_type": "stream",
          "name": "stdout",
          "text": [
            "\n",
            "======================================================================\n",
            " EXECUTANDO ALGORITMO GENÉTICO 30 VEZES\n",
            "======================================================================\n",
            "\n",
            "Execução 1/30 finalizada | Melhor distância: 7622\n",
            "Execução 2/30 finalizada | Melhor distância: 7293\n",
            "Execução 3/30 finalizada | Melhor distância: 7293\n",
            "Execução 4/30 finalizada | Melhor distância: 7808\n",
            "Execução 5/30 finalizada | Melhor distância: 7573\n",
            "Execução 6/30 finalizada | Melhor distância: 7569\n",
            "Execução 7/30 finalizada | Melhor distância: 7569\n",
            "Execução 8/30 finalizada | Melhor distância: 7622\n",
            "Execução 9/30 finalizada | Melhor distância: 7293\n",
            "Execução 10/30 finalizada | Melhor distância: 7534\n",
            "Execução 11/30 finalizada | Melhor distância: 7573\n",
            "Execução 12/30 finalizada | Melhor distância: 7573\n",
            "Execução 13/30 finalizada | Melhor distância: 7639\n",
            "Execução 14/30 finalizada | Melhor distância: 7651\n",
            "Execução 15/30 finalizada | Melhor distância: 7534\n",
            "Execução 16/30 finalizada | Melhor distância: 7293\n",
            "Execução 17/30 finalizada | Melhor distância: 7573\n",
            "Execução 18/30 finalizada | Melhor distância: 8499\n",
            "Execução 19/30 finalizada | Melhor distância: 7295\n",
            "Execução 20/30 finalizada | Melhor distância: 7534\n",
            "Execução 21/30 finalizada | Melhor distância: 7293\n",
            "Execução 22/30 finalizada | Melhor distância: 7622\n",
            "Execução 23/30 finalizada | Melhor distância: 7569\n",
            "Execução 24/30 finalizada | Melhor distância: 7651\n",
            "Execução 25/30 finalizada | Melhor distância: 7569\n",
            "Execução 26/30 finalizada | Melhor distância: 7651\n",
            "Execução 27/30 finalizada | Melhor distância: 7978\n",
            "Execução 28/30 finalizada | Melhor distância: 7293\n",
            "Execução 29/30 finalizada | Melhor distância: 7890\n",
            "Execução 30/30 finalizada | Melhor distância: 7573\n",
            "\n",
            " Todas as 30 execuções concluídas!\n"
          ]
        }
      ]
    },
    {
      "cell_type": "markdown",
      "metadata": {
        "id": "rrBnUcQVITI-"
      },
      "source": [
        "##  7. Calculando Estatísticas"
      ]
    },
    {
      "cell_type": "code",
      "metadata": {
        "colab": {
          "base_uri": "https://localhost:8080/",
          "height": 0
        },
        "id": "n1bd5U1YITI-",
        "outputId": "4147ef31-a799-4ac7-d2c6-d39f0f8554c2"
      },
      "source": [
        "media = np.mean(resultados_distancias)\n",
        "desvio_padrao = np.std(resultados_distancias)\n",
        "minimo = np.min(resultados_distancias)\n",
        "maximo = np.max(resultados_distancias)\n",
        "mediana = np.median(resultados_distancias)\n",
        "\n",
        "print('\\n' + '='*70)\n",
        "print(' ESTATÍSTICAS DOS RESULTADOS (30 EXECUÇÕES)')\n",
        "print('='*70)\n",
        "print(f'Média das distâncias: {media:.2f}')\n",
        "print(f'Desvio padrão: {desvio_padrao:.2f}')\n",
        "print(f'Mediana: {mediana:.2f}')\n",
        "print(f'Melhor resultado (mínimo): {minimo}')\n",
        "print(f'Pior resultado (máximo): {maximo}')\n",
        "print('='*70)\n",
        "print(f'\\nTodos os resultados:\\n{resultados_distancias}')\n",
        "print('='*70)"
      ],
      "execution_count": 10,
      "outputs": [
        {
          "output_type": "stream",
          "name": "stdout",
          "text": [
            "\n",
            "======================================================================\n",
            " ESTATÍSTICAS DOS RESULTADOS (30 EXECUÇÕES)\n",
            "======================================================================\n",
            "Média das distâncias: 7580.97\n",
            "Desvio padrão: 242.04\n",
            "Mediana: 7573.00\n",
            "Melhor resultado (mínimo): 7293\n",
            "Pior resultado (máximo): 8499\n",
            "======================================================================\n",
            "\n",
            "Todos os resultados:\n",
            "[7622, 7293, 7293, 7808, 7573, 7569, 7569, 7622, 7293, 7534, 7573, 7573, 7639, 7651, 7534, 7293, 7573, 8499, 7295, 7534, 7293, 7622, 7569, 7651, 7569, 7651, 7978, 7293, 7890, 7573]\n",
            "======================================================================\n"
          ]
        }
      ]
    },
    {
      "cell_type": "markdown",
      "metadata": {
        "id": "KZTIjVLTITI_"
      },
      "source": [
        "##  8. Gráfico de Convergência"
      ]
    },
    {
      "cell_type": "code",
      "metadata": {
        "colab": {
          "base_uri": "https://localhost:8080/",
          "height": 742
        },
        "id": "dNcF5sLxITI_",
        "outputId": "d73095a8-cd86-42ae-ecd5-91561ef6efca"
      },
      "source": [
        "plt.figure(figsize=(12, 7))\n",
        "\n",
        "# Plotar todas as 30 execuções em cinza claro\n",
        "for historico in todos_historicos:\n",
        "    plt.plot(historico, color='lightgray', alpha=0.5, linewidth=0.8)\n",
        "\n",
        "# Calcular e plotar a média de todas as execuções\n",
        "media_historico = np.mean(todos_historicos, axis=0)\n",
        "plt.plot(media_historico, color='red', linewidth=2.5, label='Média das execuções')\n",
        "\n",
        "plt.xlabel('Geração', fontsize=12)\n",
        "plt.ylabel('Melhor distância', fontsize=12)\n",
        "plt.title('Convergência do Algoritmo Genético', fontsize=14, fontweight='bold')\n",
        "plt.legend(fontsize=11)\n",
        "plt.grid(True, alpha=0.3)\n",
        "plt.tight_layout()\n",
        "plt.savefig('grafico_convergencia_tsp.png', dpi=300, bbox_inches='tight')\n",
        "plt.show()\n",
        "\n",
        "print('\\n Gráfico de convergência salvo!')"
      ],
      "execution_count": 11,
      "outputs": [
        {
          "output_type": "display_data",
          "data": {
            "text/plain": [
              "<Figure size 1200x700 with 1 Axes>"
            ],
            "image/png": "[encoded data removed]"
          },
          "metadata": {}
        },
        {
          "output_type": "stream",
          "name": "stdout",
          "text": [
            "\n",
            " Gráfico de convergência salvo!\n"
          ]
        }
      ]
    },
    {
      "cell_type": "markdown",
      "metadata": {
        "id": "QCZB-qImITI_"
      },
      "source": [
        "##  9. Boxplot dos Resultados Finais"
      ]
    },
    {
      "cell_type": "code",
      "metadata": {
        "colab": {
          "base_uri": "https://localhost:8080/",
          "height": 742
        },
        "id": "UFEWAM2GITI_",
        "outputId": "d82deccc-ed02-4ccd-f201-46d953b29fca"
      },
      "source": [
        "plt.figure(figsize=(8, 7))\n",
        "plt.boxplot(resultados_distancias, vert=True)\n",
        "plt.ylabel('Melhor distância final', fontsize=12)\n",
        "plt.title('Boxplot das 30 execuções', fontsize=14, fontweight='bold')\n",
        "plt.grid(True, alpha=0.3, axis='y')\n",
        "plt.tight_layout()\n",
        "plt.savefig('boxplot_tsp.png', dpi=300, bbox_inches='tight')\n",
        "plt.show()\n",
        "\n",
        "print('\\n Boxplot salvo!')"
      ],
      "execution_count": 12,
      "outputs": [
        {
          "output_type": "display_data",
          "data": {
            "text/plain": [
              "<Figure size 800x700 with 1 Axes>"
            ],
            "image/png": "[encoded data removed]"
          },
          "metadata": {}
        },
        {
          "output_type": "stream",
          "name": "stdout",
          "text": [
            "\n",
            " Boxplot salvo!\n"
          ]
        }
      ]
    }
  ]
}